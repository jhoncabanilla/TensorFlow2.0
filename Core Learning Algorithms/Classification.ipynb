{
 "cells": [
  {
   "cell_type": "markdown",
   "id": "21abe0a1",
   "metadata": {},
   "source": [
    "## Classification"
   ]
  },
  {
   "cell_type": "markdown",
   "id": "6000dd0a",
   "metadata": {},
   "source": [
    "Where regression was used to predict a numeric value, classification is used to seperate data points into classes of different labels. In this example we will use a TensorFlow estimator to classify flowers."
   ]
  },
  {
   "cell_type": "code",
   "execution_count": 40,
   "id": "2179dff4",
   "metadata": {},
   "outputs": [],
   "source": [
    "from __future__ import absolute_import, division, print_function, unicode_literals\n",
    "\n",
    "import tensorflow as tf\n",
    "import pandas as pd"
   ]
  },
  {
   "cell_type": "markdown",
   "id": "9fd00007",
   "metadata": {},
   "source": [
    "### Dataset"
   ]
  },
  {
   "cell_type": "code",
   "execution_count": 41,
   "id": "3d289b1a",
   "metadata": {},
   "outputs": [],
   "source": [
    "train_path = tf.keras.utils.get_file(\n",
    "    \"iris_training.csv\", \"https://storage.googleapis.com/download.tensorflow.org/data/iris_training.csv\")\n",
    "test_path = tf.keras.utils.get_file(\n",
    "    \"iris_test.csv\", \"https://storage.googleapis.com/download.tensorflow.org/data/iris_test.csv\")"
   ]
  },
  {
   "cell_type": "code",
   "execution_count": 42,
   "id": "f782af61",
   "metadata": {},
   "outputs": [
    {
     "data": {
      "text/html": [
       "<div>\n",
       "<style scoped>\n",
       "    .dataframe tbody tr th:only-of-type {\n",
       "        vertical-align: middle;\n",
       "    }\n",
       "\n",
       "    .dataframe tbody tr th {\n",
       "        vertical-align: top;\n",
       "    }\n",
       "\n",
       "    .dataframe thead th {\n",
       "        text-align: right;\n",
       "    }\n",
       "</style>\n",
       "<table border=\"1\" class=\"dataframe\">\n",
       "  <thead>\n",
       "    <tr style=\"text-align: right;\">\n",
       "      <th></th>\n",
       "      <th>SepalLength</th>\n",
       "      <th>SepalWidth</th>\n",
       "      <th>PetalLength</th>\n",
       "      <th>PetalWidth</th>\n",
       "      <th>Species</th>\n",
       "    </tr>\n",
       "  </thead>\n",
       "  <tbody>\n",
       "    <tr>\n",
       "      <th>0</th>\n",
       "      <td>6.4</td>\n",
       "      <td>2.8</td>\n",
       "      <td>5.6</td>\n",
       "      <td>2.2</td>\n",
       "      <td>2</td>\n",
       "    </tr>\n",
       "    <tr>\n",
       "      <th>1</th>\n",
       "      <td>5.0</td>\n",
       "      <td>2.3</td>\n",
       "      <td>3.3</td>\n",
       "      <td>1.0</td>\n",
       "      <td>1</td>\n",
       "    </tr>\n",
       "    <tr>\n",
       "      <th>2</th>\n",
       "      <td>4.9</td>\n",
       "      <td>2.5</td>\n",
       "      <td>4.5</td>\n",
       "      <td>1.7</td>\n",
       "      <td>2</td>\n",
       "    </tr>\n",
       "    <tr>\n",
       "      <th>3</th>\n",
       "      <td>4.9</td>\n",
       "      <td>3.1</td>\n",
       "      <td>1.5</td>\n",
       "      <td>0.1</td>\n",
       "      <td>0</td>\n",
       "    </tr>\n",
       "    <tr>\n",
       "      <th>4</th>\n",
       "      <td>5.7</td>\n",
       "      <td>3.8</td>\n",
       "      <td>1.7</td>\n",
       "      <td>0.3</td>\n",
       "      <td>0</td>\n",
       "    </tr>\n",
       "    <tr>\n",
       "      <th>...</th>\n",
       "      <td>...</td>\n",
       "      <td>...</td>\n",
       "      <td>...</td>\n",
       "      <td>...</td>\n",
       "      <td>...</td>\n",
       "    </tr>\n",
       "    <tr>\n",
       "      <th>115</th>\n",
       "      <td>5.5</td>\n",
       "      <td>2.6</td>\n",
       "      <td>4.4</td>\n",
       "      <td>1.2</td>\n",
       "      <td>1</td>\n",
       "    </tr>\n",
       "    <tr>\n",
       "      <th>116</th>\n",
       "      <td>5.7</td>\n",
       "      <td>3.0</td>\n",
       "      <td>4.2</td>\n",
       "      <td>1.2</td>\n",
       "      <td>1</td>\n",
       "    </tr>\n",
       "    <tr>\n",
       "      <th>117</th>\n",
       "      <td>4.4</td>\n",
       "      <td>2.9</td>\n",
       "      <td>1.4</td>\n",
       "      <td>0.2</td>\n",
       "      <td>0</td>\n",
       "    </tr>\n",
       "    <tr>\n",
       "      <th>118</th>\n",
       "      <td>4.8</td>\n",
       "      <td>3.0</td>\n",
       "      <td>1.4</td>\n",
       "      <td>0.1</td>\n",
       "      <td>0</td>\n",
       "    </tr>\n",
       "    <tr>\n",
       "      <th>119</th>\n",
       "      <td>5.5</td>\n",
       "      <td>2.4</td>\n",
       "      <td>3.7</td>\n",
       "      <td>1.0</td>\n",
       "      <td>1</td>\n",
       "    </tr>\n",
       "  </tbody>\n",
       "</table>\n",
       "<p>120 rows × 5 columns</p>\n",
       "</div>"
      ],
      "text/plain": [
       "     SepalLength  SepalWidth  PetalLength  PetalWidth  Species\n",
       "0            6.4         2.8          5.6         2.2        2\n",
       "1            5.0         2.3          3.3         1.0        1\n",
       "2            4.9         2.5          4.5         1.7        2\n",
       "3            4.9         3.1          1.5         0.1        0\n",
       "4            5.7         3.8          1.7         0.3        0\n",
       "..           ...         ...          ...         ...      ...\n",
       "115          5.5         2.6          4.4         1.2        1\n",
       "116          5.7         3.0          4.2         1.2        1\n",
       "117          4.4         2.9          1.4         0.2        0\n",
       "118          4.8         3.0          1.4         0.1        0\n",
       "119          5.5         2.4          3.7         1.0        1\n",
       "\n",
       "[120 rows x 5 columns]"
      ]
     },
     "execution_count": 42,
     "metadata": {},
     "output_type": "execute_result"
    }
   ],
   "source": [
    "# Information about each flower is the following:\n",
    "CSV_COLUMN_NAMES = ['SepalLength', 'SepalWidth', 'PetalLength', 'PetalWidth', 'Species']\n",
    "# 3 different classes of species\n",
    "SPECIES = ['Setosa', 'Versicolor', 'Virginica']\n",
    "\n",
    "data_train = pd.read_csv(train_path, names=CSV_COLUMN_NAMES, header=0)\n",
    "data_test = pd.read_csv(test_path, names=CSV_COLUMN_NAMES, header=0)\n",
    "\n",
    "data_train"
   ]
  },
  {
   "cell_type": "code",
   "execution_count": 43,
   "id": "d6741145",
   "metadata": {},
   "outputs": [
    {
     "data": {
      "text/html": [
       "<div>\n",
       "<style scoped>\n",
       "    .dataframe tbody tr th:only-of-type {\n",
       "        vertical-align: middle;\n",
       "    }\n",
       "\n",
       "    .dataframe tbody tr th {\n",
       "        vertical-align: top;\n",
       "    }\n",
       "\n",
       "    .dataframe thead th {\n",
       "        text-align: right;\n",
       "    }\n",
       "</style>\n",
       "<table border=\"1\" class=\"dataframe\">\n",
       "  <thead>\n",
       "    <tr style=\"text-align: right;\">\n",
       "      <th></th>\n",
       "      <th>SepalLength</th>\n",
       "      <th>SepalWidth</th>\n",
       "      <th>PetalLength</th>\n",
       "      <th>PetalWidth</th>\n",
       "    </tr>\n",
       "  </thead>\n",
       "  <tbody>\n",
       "    <tr>\n",
       "      <th>0</th>\n",
       "      <td>6.4</td>\n",
       "      <td>2.8</td>\n",
       "      <td>5.6</td>\n",
       "      <td>2.2</td>\n",
       "    </tr>\n",
       "    <tr>\n",
       "      <th>1</th>\n",
       "      <td>5.0</td>\n",
       "      <td>2.3</td>\n",
       "      <td>3.3</td>\n",
       "      <td>1.0</td>\n",
       "    </tr>\n",
       "    <tr>\n",
       "      <th>2</th>\n",
       "      <td>4.9</td>\n",
       "      <td>2.5</td>\n",
       "      <td>4.5</td>\n",
       "      <td>1.7</td>\n",
       "    </tr>\n",
       "    <tr>\n",
       "      <th>3</th>\n",
       "      <td>4.9</td>\n",
       "      <td>3.1</td>\n",
       "      <td>1.5</td>\n",
       "      <td>0.1</td>\n",
       "    </tr>\n",
       "    <tr>\n",
       "      <th>4</th>\n",
       "      <td>5.7</td>\n",
       "      <td>3.8</td>\n",
       "      <td>1.7</td>\n",
       "      <td>0.3</td>\n",
       "    </tr>\n",
       "  </tbody>\n",
       "</table>\n",
       "</div>"
      ],
      "text/plain": [
       "   SepalLength  SepalWidth  PetalLength  PetalWidth\n",
       "0          6.4         2.8          5.6         2.2\n",
       "1          5.0         2.3          3.3         1.0\n",
       "2          4.9         2.5          4.5         1.7\n",
       "3          4.9         3.1          1.5         0.1\n",
       "4          5.7         3.8          1.7         0.3"
      ]
     },
     "execution_count": 43,
     "metadata": {},
     "output_type": "execute_result"
    }
   ],
   "source": [
    "y_train = data_train.pop('Species')\n",
    "y_test = data_test.pop('Species')\n",
    "data_train.head()"
   ]
  },
  {
   "cell_type": "code",
   "execution_count": 44,
   "id": "5c484432",
   "metadata": {},
   "outputs": [
    {
     "data": {
      "text/plain": [
       "(120, 4)"
      ]
     },
     "execution_count": 44,
     "metadata": {},
     "output_type": "execute_result"
    }
   ],
   "source": [
    "data_train.shape"
   ]
  },
  {
   "cell_type": "markdown",
   "id": "71a5dff8",
   "metadata": {},
   "source": [
    "### Input Function"
   ]
  },
  {
   "cell_type": "code",
   "execution_count": 45,
   "id": "fd4bb4d9",
   "metadata": {},
   "outputs": [],
   "source": [
    "def make_input_fn(features, labels, training=True, batch_size=256):\n",
    "    \n",
    "    dataset = tf.data.Dataset.from_tensor_slices((dict(features), labels)) # create tf.data.Dataset object with data and its label\n",
    "    \n",
    "    if training:\n",
    "        dataset = dataset.shuffle(1000).repeat()  # randomize order of data\n",
    "    \n",
    "    return dataset.batch(batch_size)"
   ]
  },
  {
   "cell_type": "markdown",
   "id": "c351e921",
   "metadata": {},
   "source": [
    "### Feature Columns"
   ]
  },
  {
   "cell_type": "code",
   "execution_count": 46,
   "id": "7f99d8c0",
   "metadata": {},
   "outputs": [
    {
     "data": {
      "text/plain": [
       "[NumericColumn(key='SepalLength', shape=(1,), default_value=None, dtype=tf.float32, normalizer_fn=None),\n",
       " NumericColumn(key='SepalWidth', shape=(1,), default_value=None, dtype=tf.float32, normalizer_fn=None),\n",
       " NumericColumn(key='PetalLength', shape=(1,), default_value=None, dtype=tf.float32, normalizer_fn=None),\n",
       " NumericColumn(key='PetalWidth', shape=(1,), default_value=None, dtype=tf.float32, normalizer_fn=None)]"
      ]
     },
     "execution_count": 46,
     "metadata": {},
     "output_type": "execute_result"
    }
   ],
   "source": [
    "feature_columns = []\n",
    "for feature_name in data_train.keys():\n",
    "    feature_columns.append(tf.feature_column.numeric_column(feature_name, dtype=tf.float32))\n",
    "    \n",
    "feature_columns"
   ]
  },
  {
   "cell_type": "markdown",
   "id": "8cc38f7f",
   "metadata": {},
   "source": [
    "### Building the Model"
   ]
  },
  {
   "cell_type": "markdown",
   "id": "3debecca",
   "metadata": {},
   "source": [
    "For classification tasks there are variety of different estimators/models that we can pick from. Some options are listed below:\n",
    "- DNNClassifier (Deep Neural Network)\n",
    "- LinearClassifier\n",
    "\n",
    "We can choose either model but the DNN seems to be the best choice. This is because we may not be able to find a linear coorespondence in our data."
   ]
  },
  {
   "cell_type": "code",
   "execution_count": 47,
   "id": "c896cd27",
   "metadata": {},
   "outputs": [
    {
     "name": "stdout",
     "output_type": "stream",
     "text": [
      "INFO:tensorflow:Using default config.\n",
      "WARNING:tensorflow:Using temporary folder as model directory: C:\\Users\\Jhon\\AppData\\Local\\Temp\\tmplsodzvfa\n",
      "INFO:tensorflow:Using config: {'_model_dir': 'C:\\\\Users\\\\Jhon\\\\AppData\\\\Local\\\\Temp\\\\tmplsodzvfa', '_tf_random_seed': None, '_save_summary_steps': 100, '_save_checkpoints_steps': None, '_save_checkpoints_secs': 600, '_session_config': allow_soft_placement: true\n",
      "graph_options {\n",
      "  rewrite_options {\n",
      "    meta_optimizer_iterations: ONE\n",
      "  }\n",
      "}\n",
      ", '_keep_checkpoint_max': 5, '_keep_checkpoint_every_n_hours': 10000, '_log_step_count_steps': 100, '_train_distribute': None, '_device_fn': None, '_protocol': None, '_eval_distribute': None, '_experimental_distribute': None, '_experimental_max_worker_delay_secs': None, '_session_creation_timeout_secs': 7200, '_checkpoint_save_graph_def': True, '_service': None, '_cluster_spec': ClusterSpec({}), '_task_type': 'worker', '_task_id': 0, '_global_id_in_cluster': 0, '_master': '', '_evaluation_master': '', '_is_chief': True, '_num_ps_replicas': 0, '_num_worker_replicas': 1}\n"
     ]
    }
   ],
   "source": [
    "# Build a DNN with 2 hidden layers with 30 and 10 hidden nodes each\n",
    "# n_classes = 3 ['Setosa', 'Versicolor', 'Virginica']\n",
    "classifier = tf.estimator.DNNClassifier(feature_columns=feature_columns, hidden_units=[30, 10], n_classes=3)"
   ]
  },
  {
   "cell_type": "markdown",
   "id": "6bebfc83",
   "metadata": {},
   "source": [
    "### Training the Model"
   ]
  },
  {
   "cell_type": "code",
   "execution_count": 48,
   "id": "e52fbd37",
   "metadata": {},
   "outputs": [
    {
     "name": "stdout",
     "output_type": "stream",
     "text": [
      "INFO:tensorflow:Calling model_fn.\n",
      "WARNING:tensorflow:From C:\\Users\\Jhon\\AppData\\Local\\Programs\\Python\\Python36\\lib\\site-packages\\keras\\optimizer_v2\\adagrad.py:84: calling Constant.__init__ (from tensorflow.python.ops.init_ops) with dtype is deprecated and will be removed in a future version.\n",
      "Instructions for updating:\n",
      "Call initializer instance with the dtype argument instead of passing it to the constructor\n",
      "INFO:tensorflow:Done calling model_fn.\n",
      "INFO:tensorflow:Create CheckpointSaverHook.\n",
      "INFO:tensorflow:Graph was finalized.\n",
      "INFO:tensorflow:Running local_init_op.\n",
      "INFO:tensorflow:Done running local_init_op.\n",
      "INFO:tensorflow:Calling checkpoint listeners before saving checkpoint 0...\n",
      "INFO:tensorflow:Saving checkpoints for 0 into C:\\Users\\Jhon\\AppData\\Local\\Temp\\tmplsodzvfa\\model.ckpt.\n",
      "INFO:tensorflow:Calling checkpoint listeners after saving checkpoint 0...\n",
      "INFO:tensorflow:loss = 2.1870985, step = 0\n",
      "INFO:tensorflow:global_step/sec: 446.645\n",
      "INFO:tensorflow:loss = 1.1484133, step = 100 (0.225 sec)\n",
      "INFO:tensorflow:global_step/sec: 523.941\n",
      "INFO:tensorflow:loss = 1.0000985, step = 200 (0.191 sec)\n",
      "INFO:tensorflow:global_step/sec: 552.949\n",
      "INFO:tensorflow:loss = 0.84329957, step = 300 (0.182 sec)\n",
      "INFO:tensorflow:global_step/sec: 554.801\n",
      "INFO:tensorflow:loss = 0.7869779, step = 400 (0.180 sec)\n",
      "INFO:tensorflow:global_step/sec: 509.984\n",
      "INFO:tensorflow:loss = 0.77177083, step = 500 (0.196 sec)\n",
      "INFO:tensorflow:global_step/sec: 466.859\n",
      "INFO:tensorflow:loss = 0.70994264, step = 600 (0.214 sec)\n",
      "INFO:tensorflow:global_step/sec: 549.778\n",
      "INFO:tensorflow:loss = 0.68125993, step = 700 (0.181 sec)\n",
      "INFO:tensorflow:global_step/sec: 546.751\n",
      "INFO:tensorflow:loss = 0.67310214, step = 800 (0.184 sec)\n",
      "INFO:tensorflow:global_step/sec: 472.602\n",
      "INFO:tensorflow:loss = 0.6484877, step = 900 (0.212 sec)\n",
      "INFO:tensorflow:global_step/sec: 535.737\n",
      "INFO:tensorflow:loss = 0.64421743, step = 1000 (0.185 sec)\n",
      "INFO:tensorflow:global_step/sec: 559.783\n",
      "INFO:tensorflow:loss = 0.6339998, step = 1100 (0.180 sec)\n",
      "INFO:tensorflow:global_step/sec: 484.631\n",
      "INFO:tensorflow:loss = 0.60981, step = 1200 (0.206 sec)\n",
      "INFO:tensorflow:global_step/sec: 496.728\n",
      "INFO:tensorflow:loss = 0.60842323, step = 1300 (0.201 sec)\n",
      "INFO:tensorflow:global_step/sec: 570.741\n",
      "INFO:tensorflow:loss = 0.58452785, step = 1400 (0.175 sec)\n",
      "INFO:tensorflow:global_step/sec: 538.375\n",
      "INFO:tensorflow:loss = 0.5767065, step = 1500 (0.186 sec)\n",
      "INFO:tensorflow:global_step/sec: 486.312\n",
      "INFO:tensorflow:loss = 0.5815425, step = 1600 (0.205 sec)\n",
      "INFO:tensorflow:global_step/sec: 544.525\n",
      "INFO:tensorflow:loss = 0.5547791, step = 1700 (0.184 sec)\n",
      "INFO:tensorflow:global_step/sec: 544.765\n",
      "INFO:tensorflow:loss = 0.551322, step = 1800 (0.183 sec)\n",
      "INFO:tensorflow:global_step/sec: 522.439\n",
      "INFO:tensorflow:loss = 0.5467393, step = 1900 (0.191 sec)\n",
      "INFO:tensorflow:global_step/sec: 491.477\n",
      "INFO:tensorflow:loss = 0.5409123, step = 2000 (0.204 sec)\n",
      "INFO:tensorflow:global_step/sec: 508.788\n",
      "INFO:tensorflow:loss = 0.5369602, step = 2100 (0.197 sec)\n",
      "INFO:tensorflow:global_step/sec: 489.933\n",
      "INFO:tensorflow:loss = 0.52266586, step = 2200 (0.204 sec)\n",
      "INFO:tensorflow:global_step/sec: 520.609\n",
      "INFO:tensorflow:loss = 0.51590127, step = 2300 (0.192 sec)\n",
      "INFO:tensorflow:global_step/sec: 476.284\n",
      "INFO:tensorflow:loss = 0.523328, step = 2400 (0.209 sec)\n",
      "INFO:tensorflow:global_step/sec: 520.269\n",
      "INFO:tensorflow:loss = 0.51420724, step = 2500 (0.193 sec)\n",
      "INFO:tensorflow:global_step/sec: 483.478\n",
      "INFO:tensorflow:loss = 0.5113972, step = 2600 (0.206 sec)\n",
      "INFO:tensorflow:global_step/sec: 527.467\n",
      "INFO:tensorflow:loss = 0.49307248, step = 2700 (0.192 sec)\n",
      "INFO:tensorflow:global_step/sec: 528.855\n",
      "INFO:tensorflow:loss = 0.4838311, step = 2800 (0.188 sec)\n",
      "INFO:tensorflow:global_step/sec: 511.541\n",
      "INFO:tensorflow:loss = 0.49433762, step = 2900 (0.194 sec)\n",
      "INFO:tensorflow:global_step/sec: 531.413\n",
      "INFO:tensorflow:loss = 0.47961164, step = 3000 (0.189 sec)\n",
      "INFO:tensorflow:global_step/sec: 551.161\n",
      "INFO:tensorflow:loss = 0.4528879, step = 3100 (0.181 sec)\n",
      "INFO:tensorflow:global_step/sec: 533.282\n",
      "INFO:tensorflow:loss = 0.47614086, step = 3200 (0.188 sec)\n",
      "INFO:tensorflow:global_step/sec: 534.53\n",
      "INFO:tensorflow:loss = 0.46201295, step = 3300 (0.186 sec)\n",
      "INFO:tensorflow:global_step/sec: 506.137\n",
      "INFO:tensorflow:loss = 0.46403533, step = 3400 (0.198 sec)\n",
      "INFO:tensorflow:global_step/sec: 551.027\n",
      "INFO:tensorflow:loss = 0.44564104, step = 3500 (0.182 sec)\n",
      "INFO:tensorflow:global_step/sec: 548.449\n",
      "INFO:tensorflow:loss = 0.44454205, step = 3600 (0.182 sec)\n",
      "INFO:tensorflow:global_step/sec: 522.645\n",
      "INFO:tensorflow:loss = 0.44783622, step = 3700 (0.192 sec)\n",
      "INFO:tensorflow:global_step/sec: 511.064\n",
      "INFO:tensorflow:loss = 0.4459622, step = 3800 (0.195 sec)\n",
      "INFO:tensorflow:global_step/sec: 455.152\n",
      "INFO:tensorflow:loss = 0.43753257, step = 3900 (0.221 sec)\n",
      "INFO:tensorflow:global_step/sec: 487.161\n",
      "INFO:tensorflow:loss = 0.43013483, step = 4000 (0.205 sec)\n",
      "INFO:tensorflow:global_step/sec: 430.171\n",
      "INFO:tensorflow:loss = 0.4377002, step = 4100 (0.232 sec)\n",
      "INFO:tensorflow:global_step/sec: 518.867\n",
      "INFO:tensorflow:loss = 0.42160314, step = 4200 (0.193 sec)\n",
      "INFO:tensorflow:global_step/sec: 507.956\n",
      "INFO:tensorflow:loss = 0.41374213, step = 4300 (0.196 sec)\n",
      "INFO:tensorflow:global_step/sec: 500.93\n",
      "INFO:tensorflow:loss = 0.42267662, step = 4400 (0.201 sec)\n",
      "INFO:tensorflow:global_step/sec: 494.905\n",
      "INFO:tensorflow:loss = 0.41711357, step = 4500 (0.202 sec)\n",
      "INFO:tensorflow:global_step/sec: 498.202\n",
      "INFO:tensorflow:loss = 0.40588546, step = 4600 (0.201 sec)\n",
      "INFO:tensorflow:global_step/sec: 505.118\n",
      "INFO:tensorflow:loss = 0.416466, step = 4700 (0.198 sec)\n",
      "INFO:tensorflow:global_step/sec: 491.301\n",
      "INFO:tensorflow:loss = 0.4010565, step = 4800 (0.204 sec)\n",
      "INFO:tensorflow:global_step/sec: 479.034\n",
      "INFO:tensorflow:loss = 0.4012954, step = 4900 (0.209 sec)\n",
      "INFO:tensorflow:Calling checkpoint listeners before saving checkpoint 5000...\n",
      "INFO:tensorflow:Saving checkpoints for 5000 into C:\\Users\\Jhon\\AppData\\Local\\Temp\\tmplsodzvfa\\model.ckpt.\n",
      "INFO:tensorflow:Calling checkpoint listeners after saving checkpoint 5000...\n",
      "INFO:tensorflow:Loss for final step: 0.41073835.\n"
     ]
    },
    {
     "data": {
      "text/plain": [
       "<tensorflow_estimator.python.estimator.canned.dnn.DNNClassifierV2 at 0x21bd916d518>"
      ]
     },
     "execution_count": 48,
     "metadata": {},
     "output_type": "execute_result"
    }
   ],
   "source": [
    "# We use lambda function to call make_input_fn. As steps we use 5000 which means that we'll go through the data set until we've\n",
    "# hit 5000 numbers\n",
    "classifier.train(input_fn= lambda: make_input_fn(data_train, y_train), steps=5000)"
   ]
  },
  {
   "cell_type": "markdown",
   "id": "c09370d7",
   "metadata": {},
   "source": [
    " ### Evaluating the model"
   ]
  },
  {
   "cell_type": "code",
   "execution_count": 49,
   "id": "5dbc3227",
   "metadata": {},
   "outputs": [
    {
     "name": "stdout",
     "output_type": "stream",
     "text": [
      "INFO:tensorflow:Calling model_fn.\n",
      "INFO:tensorflow:Done calling model_fn.\n",
      "INFO:tensorflow:Starting evaluation at 2022-10-29T14:01:08\n",
      "INFO:tensorflow:Graph was finalized.\n",
      "INFO:tensorflow:Restoring parameters from C:\\Users\\Jhon\\AppData\\Local\\Temp\\tmplsodzvfa\\model.ckpt-5000\n",
      "INFO:tensorflow:Running local_init_op.\n",
      "INFO:tensorflow:Done running local_init_op.\n",
      "INFO:tensorflow:Inference Time : 0.20682s\n",
      "INFO:tensorflow:Finished evaluation at 2022-10-29-14:01:08\n",
      "INFO:tensorflow:Saving dict for global step 5000: accuracy = 0.9, average_loss = 0.48598102, global_step = 5000, loss = 0.48598102\n",
      "INFO:tensorflow:Saving 'checkpoint_path' summary for global step 5000: C:\\Users\\Jhon\\AppData\\Local\\Temp\\tmplsodzvfa\\model.ckpt-5000\n",
      "\n",
      "Test set accuracy: 0.900\n",
      "\n"
     ]
    }
   ],
   "source": [
    "result = classifier.evaluate(input_fn= lambda: make_input_fn(data_test, y_test, training=False))\n",
    "print('\\nTest set accuracy: {:0.3f}\\n'.format(result['accuracy']))"
   ]
  },
  {
   "cell_type": "markdown",
   "id": "62b716e8",
   "metadata": {},
   "source": [
    "### Predictions"
   ]
  },
  {
   "cell_type": "code",
   "execution_count": 68,
   "id": "aba28eb8",
   "metadata": {},
   "outputs": [
    {
     "name": "stdout",
     "output_type": "stream",
     "text": [
      "Please type numeric values as prompted\n",
      "SepalLength: 6.9\n",
      "SepalWidth: 3.1\n",
      "PetalLength: 5.4\n",
      "PetalWidth: 2.1\n",
      "INFO:tensorflow:Calling model_fn.\n",
      "INFO:tensorflow:Done calling model_fn.\n",
      "INFO:tensorflow:Graph was finalized.\n",
      "INFO:tensorflow:Restoring parameters from C:\\Users\\Jhon\\AppData\\Local\\Temp\\tmplsodzvfa\\model.ckpt-5000\n",
      "INFO:tensorflow:Running local_init_op.\n",
      "INFO:tensorflow:Done running local_init_op.\n",
      "\n",
      "Prediction is \"Virginica\" (65.8%)\n"
     ]
    }
   ],
   "source": [
    "def input_fn(features, batch_size=256):\n",
    "    # Convert the inputs to a Dataset without labels.\n",
    "    return tf.data.Dataset.from_tensor_slices(dict(features)).batch(batch_size)\n",
    "\n",
    "\n",
    "features = ['SepalLength', 'SepalWidth', 'PetalLength', 'PetalWidth']\n",
    "predict = {}\n",
    "\n",
    "print(\"Please type numeric values as prompted\")\n",
    "for feature in features:\n",
    "    valid = True\n",
    "    while valid:\n",
    "        value = input(feature + \": \")\n",
    "        if not value.isdigit():\n",
    "            valid = False\n",
    "            \n",
    "    predict[feature] = [float(value)]\n",
    "    \n",
    "predictions = classifier.predict(input_fn= lambda: input_fn(predict))\n",
    "for prediction in predictions:\n",
    "    id_class = prediction['class_ids'][0]\n",
    "    probability = prediction['probabilities'][id_class]\n",
    "    \n",
    "    print('\\nPrediction is \"{}\" ({:.1f}%)'.format(SPECIES[id_class], 100 * probability))"
   ]
  }
 ],
 "metadata": {
  "kernelspec": {
   "display_name": "Python 3.6.8 64-bit",
   "language": "python",
   "name": "python3"
  },
  "language_info": {
   "codemirror_mode": {
    "name": "ipython",
    "version": 3
   },
   "file_extension": ".py",
   "mimetype": "text/x-python",
   "name": "python",
   "nbconvert_exporter": "python",
   "pygments_lexer": "ipython3",
   "version": "3.6.8"
  },
  "vscode": {
   "interpreter": {
    "hash": "e7ac8af1751251786aabff99b5adce64bfad096a785f884cf578e7acab7b577e"
   }
  }
 },
 "nbformat": 4,
 "nbformat_minor": 5
}
