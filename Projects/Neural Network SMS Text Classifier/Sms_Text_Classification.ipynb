{
  "cells": [
    {
      "cell_type": "code",
      "execution_count": null,
      "metadata": {
        "id": "8RZOuS9LWQvv"
      },
      "outputs": [],
      "source": [
        "# import libraries\n",
        "try:\n",
        "  # %tensorflow_version only exists in Colab.\n",
        "  !pip install tf-nightly\n",
        "except Exception:\n",
        "  pass\n",
        "import tensorflow as tf\n",
        "import pandas as pd\n",
        "from tensorflow import keras\n",
        "!pip install tensorflow-datasets\n",
        "import tensorflow_datasets as tfds\n",
        "import numpy as np\n",
        "import matplotlib.pyplot as plt\n",
        "\n",
        "print(tf.__version__)"
      ]
    },
    {
      "cell_type": "code",
      "execution_count": null,
      "metadata": {
        "id": "lMHwYXHXCar3"
      },
      "outputs": [],
      "source": [
        "# get data files\n",
        "!wget https://cdn.freecodecamp.org/project-data/sms/train-data.tsv\n",
        "!wget https://cdn.freecodecamp.org/project-data/sms/valid-data.tsv\n",
        "\n",
        "train_file_path = \"train-data.tsv\"\n",
        "test_file_path = \"valid-data.tsv\""
      ]
    },
    {
      "cell_type": "markdown",
      "source": [
        "### Train & Test Datasets"
      ],
      "metadata": {
        "id": "Y96PTRyFOnYt"
      }
    },
    {
      "cell_type": "markdown",
      "source": [
        "En el conjunto de datos de entrenamiento y de prueba aparece el tipo de mensaje junto con el mensaje. Para poder visualizar los datos correctamente, creamos un DataFrame a partir del *path* de ambos ficheros y añadimos los features correspondiente."
      ],
      "metadata": {
        "id": "dAGJfFb_NIMZ"
      }
    },
    {
      "cell_type": "code",
      "execution_count": null,
      "metadata": {
        "id": "g_h508FEClxO"
      },
      "outputs": [],
      "source": [
        "columns = ['class', 'text']\n",
        "train_dataset = pd.read_csv(train_file_path, names=columns ,delimiter='\\t')\n",
        "test_dataset = pd.read_csv(test_file_path, names=columns ,delimiter='\\t')\n",
        "\n",
        "train_dataset.head()"
      ]
    },
    {
      "cell_type": "code",
      "source": [
        "test_dataset.head()"
      ],
      "metadata": {
        "id": "xpZFD42gKZoe"
      },
      "execution_count": null,
      "outputs": []
    },
    {
      "cell_type": "markdown",
      "source": [
        "Procedemos a cambiar los valores categoricos de la clase por valores numericos. Segun las especificaciones: *ham = 0* y *spam = 1*.\n",
        "\n"
      ],
      "metadata": {
        "id": "0IUvMmnoO0m9"
      }
    },
    {
      "cell_type": "code",
      "source": [
        "train_dataset['class'].replace(['ham','spam'], [0,1], inplace=True)\n",
        "test_dataset['class'].replace(['ham','spam'], [0,1], inplace=True)"
      ],
      "metadata": {
        "id": "-yEtJvABKZlv"
      },
      "execution_count": null,
      "outputs": []
    },
    {
      "cell_type": "markdown",
      "source": [
        "Separamos el label a predecir del resto de features"
      ],
      "metadata": {
        "id": "J-ndJa8dPsJe"
      }
    },
    {
      "cell_type": "code",
      "source": [
        "train_labels = train_dataset.pop('class')\n",
        "test_labels = test_dataset.pop('class')"
      ],
      "metadata": {
        "id": "Pb2CzdJuKZhu"
      },
      "execution_count": null,
      "outputs": []
    },
    {
      "cell_type": "markdown",
      "source": [
        "### Codificación del texto & Preprocesamiento de los datos"
      ],
      "metadata": {
        "id": "cy116XP5QK-R"
      }
    },
    {
      "cell_type": "code",
      "execution_count": null,
      "metadata": {
        "id": "zOMKywn4zReN"
      },
      "outputs": [],
      "source": [
        "from keras.preprocessing.text import Tokenizer"
      ]
    },
    {
      "cell_type": "code",
      "source": [
        "VOCAB_SIZE = 8000\n",
        "\n",
        "train_dataset = train_dataset['text'].values\n",
        "test_dataset = test_dataset['text'].values\n",
        "\n",
        "tokenizer = Tokenizer(num_words = VOCAB_SIZE)\n",
        "tokenizer.fit_on_texts(train_dataset)"
      ],
      "metadata": {
        "id": "qwHjf77oQD3o"
      },
      "execution_count": null,
      "outputs": []
    },
    {
      "cell_type": "code",
      "source": [
        "coded_train_dataset = tokenizer.texts_to_sequences(train_dataset)\n",
        "coded_test_dataset = tokenizer.texts_to_sequences(test_dataset)\n",
        "\n",
        "VOCAB_SIZE = len(tokenizer.word_index) + 1\n",
        "VOCAB_SIZE"
      ],
      "metadata": {
        "id": "4yuo-VlRQDyr"
      },
      "execution_count": null,
      "outputs": []
    },
    {
      "cell_type": "code",
      "source": [
        "len(coded_train_dataset[0])"
      ],
      "metadata": {
        "id": "1Ng_suGjQDun"
      },
      "execution_count": null,
      "outputs": []
    },
    {
      "cell_type": "code",
      "source": [
        "len(coded_train_dataset[223])"
      ],
      "metadata": {
        "id": "aMJAcM2yQDsm"
      },
      "execution_count": null,
      "outputs": []
    },
    {
      "cell_type": "markdown",
      "source": [
        "Como se puede observar, las codificaciones de diferentes textos tienen longitudes distintas, lo cual es un problema ya que no podemos pasar datos de diferente longitud a nuestra red neuronal. Por esta razon, tenemos que tener todos los mensajes con la misma longitud."
      ],
      "metadata": {
        "id": "-XaWUj05bk4G"
      }
    },
    {
      "cell_type": "code",
      "source": [
        "MAXLEN = 100\n",
        "\n",
        "# Lo que conseguimos con esto es dar a todas las secuencias de texto la misma longitud\n",
        "# Si el texto supera las 250 palabras, se eliminan las palabras extra\n",
        "# Si el texto no llega a las 250 palabras, se insertan 0's al comienzo hasta llegar a las 250 palabras\n",
        "data_train = keras.preprocessing.sequence.pad_sequences(coded_train_dataset, MAXLEN)\n",
        "data_test = keras.preprocessing.sequence.pad_sequences(coded_test_dataset, MAXLEN)"
      ],
      "metadata": {
        "id": "6N0tTkWrbj0O"
      },
      "execution_count": null,
      "outputs": []
    },
    {
      "cell_type": "markdown",
      "source": [
        "### Creacion del modelo"
      ],
      "metadata": {
        "id": "7rbswWmqeTv7"
      }
    },
    {
      "cell_type": "code",
      "source": [
        "model = keras.Sequential([\n",
        "    keras.layers.Embedding(VOCAB_SIZE, 32), # tam_vocabu, dimens_vector\n",
        "    keras.layers.LSTM(32),\n",
        "    keras.layers.Dense(1, activation='sigmoid') # Debido a que queremos valores entre 0 y 1\n",
        "])\n",
        "\n",
        "model.compile(\n",
        "    optimizer = 'adam',\n",
        "    loss = 'binary_crossentropy',\n",
        "    metrics = ['acc']\n",
        ")"
      ],
      "metadata": {
        "id": "bVMoVm1KbjwT"
      },
      "execution_count": null,
      "outputs": []
    },
    {
      "cell_type": "code",
      "source": [
        "model.summary()"
      ],
      "metadata": {
        "id": "cqp67OmTbjtu"
      },
      "execution_count": null,
      "outputs": []
    },
    {
      "cell_type": "markdown",
      "source": [
        "### Entrenamiento del modelo"
      ],
      "metadata": {
        "id": "uZxtYev6gBSL"
      }
    },
    {
      "cell_type": "code",
      "source": [
        "history = model.fit(data_train, train_labels, epochs=10, validation_split=0.2)"
      ],
      "metadata": {
        "id": "FPunt8qLQDlm"
      },
      "execution_count": null,
      "outputs": []
    },
    {
      "cell_type": "markdown",
      "source": [
        "### Evaluacion del modelo"
      ],
      "metadata": {
        "id": "0CXBuA_NhPmv"
      }
    },
    {
      "cell_type": "code",
      "source": [
        "results = model.evaluate(data_test, test_labels)\n",
        "results"
      ],
      "metadata": {
        "id": "lfpBS-ougAkP"
      },
      "execution_count": null,
      "outputs": []
    },
    {
      "cell_type": "markdown",
      "source": [
        "Como se puede observar, obtenemos una precesion de 0.9878"
      ],
      "metadata": {
        "id": "mA4HMpt6hyET"
      }
    },
    {
      "cell_type": "markdown",
      "source": [
        "### Predicciones"
      ],
      "metadata": {
        "id": "fDJ2zjNWiWZn"
      }
    },
    {
      "cell_type": "markdown",
      "source": [
        "Obtenemos *word_index* en el que se encuentran las palabras con sus correspondientes codificaciones, teniendo la palabra mas comun el valor 1, la segunda mas comun el 2 y asi sucesivamente"
      ],
      "metadata": {
        "id": "uGsFurQSk7n_"
      }
    },
    {
      "cell_type": "code",
      "source": [
        "word_index = tokenizer.word_index\n",
        "word_index"
      ],
      "metadata": {
        "id": "ji7EkReXgAiC"
      },
      "execution_count": null,
      "outputs": []
    },
    {
      "cell_type": "code",
      "execution_count": null,
      "metadata": {
        "id": "J9tD9yACG6M9"
      },
      "outputs": [],
      "source": [
        "# function to predict messages based on model\n",
        "# (should return list containing prediction and label, ex. [0.008318834938108921, 'ham'])\n",
        "def predict_message(pred_text):\n",
        "  tokens = keras.preprocessing.text.text_to_word_sequence(pred_text) # convertimos el texto a tokens\n",
        "  tokens = [word_index[word] if word in word_index else 0 for word in tokens] # lista con los tokens cifrados\n",
        "  # Precesamos el texto\n",
        "  coded_text = keras.preprocessing.sequence.pad_sequences([tokens], MAXLEN)[0]\n",
        "\n",
        "  # Creamos un numpy de la dimension indicada para poder predecir de forma adecuada\n",
        "  predictions = np.zeros((1,100))\n",
        "  predictions[0] = coded_text\n",
        "\n",
        "  result =  model.predict(predictions)\n",
        "  prediction = result[0][0]\n",
        "\n",
        "  # Segundo elemento de la lista en funcion del valor predicho -- ham(0) y spam(1)\n",
        "  val = round(prediction)\n",
        "  if val == 0: \n",
        "    clase = 'ham'\n",
        "  else:\n",
        "    clase = 'spam'\n",
        "\n",
        "  return [prediction, clase]\n",
        "\n",
        "pred_text = \"wow, is your arm alright. that happened to me one time too\"\n",
        "\n",
        "prediction = predict_message(pred_text)\n",
        "print(prediction)"
      ]
    },
    {
      "cell_type": "code",
      "execution_count": null,
      "metadata": {
        "id": "Dxotov85SjsC"
      },
      "outputs": [],
      "source": [
        "# Run this cell to test your function and model. Do not modify contents.\n",
        "def test_predictions():\n",
        "  test_messages = [\"how are you doing today\",\n",
        "                   \"sale today! to stop texts call 98912460324\",\n",
        "                   \"i dont want to go. can we try it a different day? available sat\",\n",
        "                   \"our new mobile video service is live. just install on your phone to start watching.\",\n",
        "                   \"you have won £1000 cash! call to claim your prize.\",\n",
        "                   \"i'll bring it tomorrow. don't forget the milk.\",\n",
        "                   \"wow, is your arm alright. that happened to me one time too\"\n",
        "                  ]\n",
        "\n",
        "  test_answers = [\"ham\", \"spam\", \"ham\", \"spam\", \"spam\", \"ham\", \"ham\"]\n",
        "  passed = True\n",
        "\n",
        "  for msg, ans in zip(test_messages, test_answers):\n",
        "    prediction = predict_message(msg)\n",
        "    if prediction[1] != ans:\n",
        "      passed = False\n",
        "\n",
        "  if passed:\n",
        "    print(\"You passed the challenge. Great job!\")\n",
        "  else:\n",
        "    print(\"You haven't passed yet. Keep trying.\")\n",
        "\n",
        "test_predictions()\n"
      ]
    }
  ],
  "metadata": {
    "colab": {
      "collapsed_sections": [],
      "private_outputs": true,
      "provenance": []
    },
    "kernelspec": {
      "display_name": "Python 3",
      "name": "python3"
    },
    "language_info": {}
  },
  "nbformat": 4,
  "nbformat_minor": 0
}