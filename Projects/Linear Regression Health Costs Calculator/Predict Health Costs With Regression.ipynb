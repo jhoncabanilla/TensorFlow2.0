{
  "cells": [
    {
      "cell_type": "code",
      "execution_count": null,
      "metadata": {
        "id": "1rRo8oNqZ-Rj"
      },
      "outputs": [],
      "source": [
        "# Import libraries. You may or may not use all of these.\n",
        "!pip install -q git+https://github.com/tensorflow/docs\n",
        "import matplotlib.pyplot as plt\n",
        "import numpy as np\n",
        "import pandas as pd\n",
        "\n",
        "try:\n",
        "  # %tensorflow_version only exists in Colab.\n",
        "  %tensorflow_version 2.x\n",
        "except Exception:\n",
        "  pass\n",
        "import tensorflow as tf\n",
        "\n",
        "from tensorflow import keras\n",
        "from tensorflow.keras import layers\n",
        "\n",
        "import tensorflow_docs as tfdocs\n",
        "import tensorflow_docs.plots\n",
        "import tensorflow_docs.modeling"
      ]
    },
    {
      "cell_type": "code",
      "execution_count": null,
      "metadata": {
        "id": "CiX2FI4gZtTt"
      },
      "outputs": [],
      "source": [
        "# Import data\n",
        "!wget https://cdn.freecodecamp.org/project-data/health-costs/insurance.csv\n",
        "dataset = pd.read_csv('insurance.csv')\n",
        "dataset.tail()"
      ]
    },
    {
      "cell_type": "code",
      "source": [
        "dataset.head()"
      ],
      "metadata": {
        "id": "P5omddWXa9Rz"
      },
      "execution_count": null,
      "outputs": []
    },
    {
      "cell_type": "markdown",
      "source": [
        "## Preprocesamiento de los datos\n"
      ],
      "metadata": {
        "id": "eNCXWMAtK1Ht"
      }
    },
    {
      "cell_type": "markdown",
      "source": [
        "Comprobamos si el dataset contiene valores desconocidos"
      ],
      "metadata": {
        "id": "5lm0hi3GLaqU"
      }
    },
    {
      "cell_type": "code",
      "source": [
        "dataset.isna().sum()"
      ],
      "metadata": {
        "id": "Bcx3pqCQIbZp"
      },
      "execution_count": null,
      "outputs": []
    },
    {
      "cell_type": "markdown",
      "source": [
        "Como se puede observar, el conjunto de datos no presenta ningún valor desconocido.\n",
        "\n",
        "Si analizamos las columnas del dataset, podemos observar que los features: *sex, smoker, region* son categóricos. Por ello, convertimos los datos categóricos a numéricos."
      ],
      "metadata": {
        "id": "UeTblGpULAE-"
      }
    },
    {
      "cell_type": "code",
      "source": [
        "dataset['region'].unique()"
      ],
      "metadata": {
        "id": "A3eXCJjIMgv6"
      },
      "execution_count": null,
      "outputs": []
    },
    {
      "cell_type": "code",
      "source": [
        "dataset['sex'].replace(['female', 'male'], [0,1], inplace=True)\n",
        "dataset['smoker'].replace(['yes', 'no'], [1,0], inplace=True)\n",
        "dataset['region'].replace(['southwest', 'southeast', 'northwest', 'northeast'], [0,1,2,3], inplace=True)\n",
        "\n",
        "dataset.head()"
      ],
      "metadata": {
        "id": "Ih5ywFDKIbcc"
      },
      "execution_count": null,
      "outputs": []
    },
    {
      "cell_type": "markdown",
      "source": [
        "### Train & Test datasets\n"
      ],
      "metadata": {
        "id": "LID5-cgaM7oW"
      }
    },
    {
      "cell_type": "markdown",
      "source": [
        "Tenemos que usar el 80% de los datos para el conjunto de entrenamiento y el 20% restante para el conjunto de prueba."
      ],
      "metadata": {
        "id": "FCBY72DzNCAh"
      }
    },
    {
      "cell_type": "code",
      "source": [
        "train_dataset = dataset.sample(frac=0.8, random_state=0)\n",
        "test_dataset = dataset.drop(train_dataset.index)"
      ],
      "metadata": {
        "id": "fAwMn0NrIbe6"
      },
      "execution_count": null,
      "outputs": []
    },
    {
      "cell_type": "code",
      "source": [
        "train_dataset.shape"
      ],
      "metadata": {
        "id": "rijVFfzpIbia"
      },
      "execution_count": null,
      "outputs": []
    },
    {
      "cell_type": "code",
      "source": [
        "test_dataset.shape"
      ],
      "metadata": {
        "id": "ckz3jgDtIbla"
      },
      "execution_count": null,
      "outputs": []
    },
    {
      "cell_type": "markdown",
      "source": [
        "### Inspeccionamos los datos"
      ],
      "metadata": {
        "id": "r_81s4kGOAh1"
      }
    },
    {
      "cell_type": "code",
      "source": [
        "import seaborn as sns\n",
        "sns.pairplot(train_dataset[['age','bmi','children','expenses']], diag_kind='kde')"
      ],
      "metadata": {
        "id": "ugvmHW6zOG6-"
      },
      "execution_count": null,
      "outputs": []
    },
    {
      "cell_type": "markdown",
      "source": [
        "También podemos revisar las estadísticas generales"
      ],
      "metadata": {
        "id": "Fb_Ekp0IVWP1"
      }
    },
    {
      "cell_type": "code",
      "source": [
        "train_stats = train_dataset.describe()\n",
        "train_stats.pop('expenses')\n",
        "train_stats = train_stats.transpose()\n",
        "train_stats"
      ],
      "metadata": {
        "id": "kMzpfsbiVU0m"
      },
      "execution_count": null,
      "outputs": []
    },
    {
      "cell_type": "markdown",
      "source": [
        "### Separamos los features del label"
      ],
      "metadata": {
        "id": "B-5Btm3TV4bY"
      }
    },
    {
      "cell_type": "markdown",
      "source": [
        "Separamos la etiqueta que servirá para entrenar el modelo"
      ],
      "metadata": {
        "id": "JinSpb8_V-d9"
      }
    },
    {
      "cell_type": "code",
      "source": [
        "train_labels = train_dataset.pop('expenses')\n",
        "test_labels = test_dataset.pop('expenses')"
      ],
      "metadata": {
        "id": "Zlc1drRTPw2Z"
      },
      "execution_count": null,
      "outputs": []
    },
    {
      "cell_type": "markdown",
      "source": [
        "### Normalizamos los datos"
      ],
      "metadata": {
        "id": "vsYrZ3J3Wzxy"
      }
    },
    {
      "cell_type": "markdown",
      "source": [
        "Aunque el modelo pudiera converger sin normalizar las caracteristicas, dificulta el entrenamiento y hace que el modelo resultante dependa de la elección de las unidades utlizadas en la entrada"
      ],
      "metadata": {
        "id": "3aH6NUFVXGHx"
      }
    },
    {
      "cell_type": "code",
      "source": [
        "def norm(x):\n",
        "  return (x - train_stats['mean']) / train_stats['std']\n",
        "\n",
        "\n",
        "normed_train_data = norm(train_dataset)\n",
        "normed_test_data = norm(test_dataset)"
      ],
      "metadata": {
        "id": "0hKX1pyXWYdN"
      },
      "execution_count": null,
      "outputs": []
    },
    {
      "cell_type": "markdown",
      "source": [
        "## Creación del modelo"
      ],
      "metadata": {
        "id": "erbitbJEX1wD"
      }
    },
    {
      "cell_type": "code",
      "source": [
        "def build_model():\n",
        "  model = keras.Sequential([\n",
        "      layers.Dense(64, activation='relu', input_shape=[len(train_dataset.keys())]), #1st hidden layer\n",
        "      layers.Dense(64, activation='relu'), # 2nd hidden layer\n",
        "      layers.Dense(1) # output layer\n",
        "  ])\n",
        "\n",
        "  model.compile(\n",
        "      optimizer = keras.optimizers.RMSprop(0.001),\n",
        "      loss = 'mse', # Mean Square Error\n",
        "      metrics = ['mae', 'mse'] # Mean Absolute Error , Mean Square Error\n",
        "  )\n",
        "\n",
        "  return model"
      ],
      "metadata": {
        "id": "Ff_069XoWYXN"
      },
      "execution_count": null,
      "outputs": []
    },
    {
      "cell_type": "code",
      "source": [
        "model = build_model()"
      ],
      "metadata": {
        "id": "FY04J41dPwsR"
      },
      "execution_count": null,
      "outputs": []
    },
    {
      "cell_type": "code",
      "source": [
        "model.summary()"
      ],
      "metadata": {
        "id": "9ZDzMeh0YCh2"
      },
      "execution_count": null,
      "outputs": []
    },
    {
      "cell_type": "markdown",
      "source": [
        "## Entrenamiento del modelo"
      ],
      "metadata": {
        "id": "7X7bFgkvbmO8"
      }
    },
    {
      "cell_type": "code",
      "source": [
        "model = build_model()\n",
        "\n",
        "early_stop = keras.callbacks.EarlyStopping(monitor='val_loss', patience=10) # patience es la cantidad de epochs que chequea para compronar si hay mejoras\n",
        "\n",
        "history = model.fit(normed_train_data, train_labels, epochs=1000, validation_split=0.2, verbose=0)"
      ],
      "metadata": {
        "id": "SUP8RPUWYCX2"
      },
      "execution_count": null,
      "outputs": []
    },
    {
      "cell_type": "markdown",
      "source": [
        "## Evaluando el modelo"
      ],
      "metadata": {
        "id": "kHLMr4JdhZpS"
      }
    },
    {
      "cell_type": "code",
      "source": [
        "test_dataset = normed_test_data"
      ],
      "metadata": {
        "id": "DmbkYyY9h-SS"
      },
      "execution_count": null,
      "outputs": []
    },
    {
      "cell_type": "code",
      "execution_count": null,
      "metadata": {
        "id": "Xe7RXH3N3CWU"
      },
      "outputs": [],
      "source": [
        "# RUN THIS CELL TO TEST YOUR MODEL. DO NOT MODIFY CONTENTS.\n",
        "# Test model by checking how well the model generalizes using the test set.\n",
        "loss, mae, mse = model.evaluate(test_dataset, test_labels, verbose=2)\n",
        "\n",
        "print(\"Testing set Mean Abs Error: {:5.2f} expenses\".format(mae))\n",
        "\n",
        "if mae < 3500:\n",
        "  print(\"You passed the challenge. Great job!\")\n",
        "else:\n",
        "  print(\"The Mean Abs Error must be less than 3500. Keep trying.\")\n",
        "\n",
        "# Plot predictions.\n",
        "test_predictions = model.predict(test_dataset).flatten()\n",
        "\n",
        "a = plt.axes(aspect='equal')\n",
        "plt.scatter(test_labels, test_predictions)\n",
        "plt.xlabel('True values (expenses)')\n",
        "plt.ylabel('Predictions (expenses)')\n",
        "lims = [0, 50000]\n",
        "plt.xlim(lims)\n",
        "plt.ylim(lims)\n",
        "_ = plt.plot(lims,lims)\n"
      ]
    }
  ],
  "metadata": {
    "colab": {
      "collapsed_sections": [],
      "private_outputs": true,
      "provenance": []
    },
    "kernelspec": {
      "display_name": "Python 3",
      "name": "python3"
    }
  },
  "nbformat": 4,
  "nbformat_minor": 0
}