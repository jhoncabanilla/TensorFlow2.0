{
 "cells": [
  {
   "cell_type": "markdown",
   "id": "6f0120e2",
   "metadata": {},
   "source": [
    "## Natural Language Processing\n",
    "Natural Language Processing (or NLP for short) is a discipline in computing that deals with the communication between natural (human) languages and computer languages. A common example of NLP is something like spellcheck or autocomplete. Essentially NLP is the field that focuses on how computers can understand and/or process natural/human languages.\n",
    "\n",
    "### Recurrent Neural Networks\n",
    "Kind of neural network that is much more capable of processing sequential data such as text or characters called a recurrent neural network (RNN for short).\n",
    "\n",
    "We will learn how to use a reccurent neural network to do the following:\n",
    "- Sentiment Analysis  *(how bad/god is a text)*\n",
    "- Character Generation *(autocomplete, ...)*"
   ]
  },
  {
   "cell_type": "markdown",
   "id": "aa873f61",
   "metadata": {},
   "source": [
    "## Encoding Text"
   ]
  },
  {
   "cell_type": "markdown",
   "id": "5da25635",
   "metadata": {},
   "source": [
    "### Word Embeddings\n",
    "This method keeps the order of words intact as well as encodes similar words with very similar labels. It attempts to not only encode the frequency and order of words but the meaning of those words in the sentence. It encodes each word as a dense vector that represents its context in the sentence.\n",
    "\n",
    "Unlike the previous techniques word embeddings are learned by looking at many different training examples. You can add what's called an embedding layer to the beggining of your model and while your model trains your embedding layer will learn the correct embeddings for words. You can also use pretrained embedding layers."
   ]
  },
  {
   "cell_type": "markdown",
   "id": "6c53c067",
   "metadata": {},
   "source": [
    "## Recurrent Neural Networks (RNN's)\n",
    "Now that we've learned a little bit about how we can encode text it's time to dive into recurrent neural networks. Up until this point we have been using something called **feed-forward** neural networks. This simply means that all our data is fed forwards (all at once) from left to right through the network. This was fine for the problems we considered before but won't work very well for processing text. After all, even we (humans) don't process text all at once. We read word by word from left to right and keep track of the current meaning of the sentence so we can understand the meaning of the next word. Well this is exaclty what a recurrent neural network is designed to do. When we say recurrent neural network all we really mean is a network that contains a loop. A RNN will process one word at a time while maintaining an internal memory of what it's already seen. This will allow it to treat words differently based on their order in a sentence and to slowly build an understanding of the entire input, one word at a time.\n",
    "\n",
    "This is why we are treating our text data as a sequence! So that we can pass one word at a time to the RNN.\n",
    "\n",
    "Let's have a look at what a recurrent layer might look like.\n",
    "\n",
    "![alt text](https://colah.github.io/posts/2015-08-Understanding-LSTMs/img/RNN-unrolled.png)\n",
    "*Source: https://colah.github.io/posts/2015-08-Understanding-LSTMs/*\n",
    "\n",
    "Let's define what all these variables stand for before we get into the explination.\n",
    "\n",
    "**h<sub>t</sub>** output at time t\n",
    "\n",
    "**x<sub>t</sub>** input at time t\n",
    "\n",
    "**A** Recurrent Layer (loop)\n",
    "\n",
    "What this diagram is trying to illustrate is that a recurrent layer processes words or input one at a time in a combination with the output from the previous iteration. So, as we progress further in the input sequence, we build a more complex understanding of the text as a whole.\n",
    "\n",
    "What we've just looked at is called a **simple RNN layer**. It can be effective at processing shorter sequences of text for simple problems but has many downfalls associated with it. One of them being the fact that as text sequences get longer it gets increasingly difficult for the network to understand the text properly.\n",
    "\n"
   ]
  },
  {
   "cell_type": "markdown",
   "id": "ea25a809",
   "metadata": {},
   "source": [
    "### LSTM\n",
    "The layer we dicussed in depth above was called a simpleRNN. However, there does exist some other recurrent layers (layers that contain a loop) that work much better than a simple RNN layer. The one we will talk about here is called LSTM (Long Short-Term Memory). This layer works very similarily to the simpleRNN layer but adds a way to access inputs from any timestep in the past. Whereas in our simple RNN layer input from previous timestamps gradually disappeared as we got further through the input. With a LSTM we have a long-term memory data structure storing all the previously seen inputs as well as when we saw them. This allows for us to access any previous value we want at any point in time. This adds to the complexity of our network and allows it to discover more useful relationships between inputs and when they appear."
   ]
  },
  {
   "cell_type": "markdown",
   "id": "c7b33ced",
   "metadata": {},
   "source": [
    "------"
   ]
  },
  {
   "cell_type": "markdown",
   "id": "a5fd7371",
   "metadata": {},
   "source": [
    "### Movie Review "
   ]
  },
  {
   "cell_type": "code",
   "execution_count": 1,
   "id": "aeabbf36",
   "metadata": {},
   "outputs": [],
   "source": [
    "import tensorflow as tf\n",
    "from keras.datasets import imdb\n",
    "from keras.preprocessing import sequence\n",
    "\n",
    "import os\n",
    "import numpy as np"
   ]
  },
  {
   "cell_type": "markdown",
   "id": "d5ad9679",
   "metadata": {},
   "source": [
    "#### Dataset\n",
    "Well start by loading in the IMDB movie review dataset from keras. This dataset contains 25,000 reviews from IMDB where each one is already preprocessed and has a label as either positive or negative. Each review is encoded by integers that represents how common a word is in the entire dataset. For example, a word encoded by the integer 3 means that it is the 3rd most common word in the dataset."
   ]
  },
  {
   "cell_type": "code",
   "execution_count": 2,
   "id": "49affff1",
   "metadata": {},
   "outputs": [
    {
     "name": "stdout",
     "output_type": "stream",
     "text": [
      "Downloading data from https://storage.googleapis.com/tensorflow/tf-keras-datasets/imdb.npz\n",
      "17465344/17464789 [==============================] - 1s 0us/step\n",
      "17473536/17464789 [==============================] - 1s 0us/step\n"
     ]
    }
   ],
   "source": [
    "VOCAB_SIZE = 88584 # unique words\n",
    "MAXLEN = 250 # max len for each review\n",
    "BATCH_SIZE = 64\n",
    "\n",
    "(data_train, y_train), (data_test, y_test) = imdb.load_data(num_words=VOCAB_SIZE)"
   ]
  },
  {
   "cell_type": "code",
   "execution_count": 8,
   "id": "d5c5220a",
   "metadata": {},
   "outputs": [
    {
     "data": {
      "text/plain": [
       "218"
      ]
     },
     "execution_count": 8,
     "metadata": {},
     "output_type": "execute_result"
    }
   ],
   "source": [
    "# Look at the reviews\n",
    "len(data_train[0])"
   ]
  },
  {
   "cell_type": "code",
   "execution_count": 9,
   "id": "d1f0d2b2",
   "metadata": {},
   "outputs": [
    {
     "data": {
      "text/plain": [
       "450"
      ]
     },
     "execution_count": 9,
     "metadata": {},
     "output_type": "execute_result"
    }
   ],
   "source": [
    "len(data_train[10])"
   ]
  },
  {
   "cell_type": "markdown",
   "id": "79833046",
   "metadata": {},
   "source": [
    "### Preprocessing\n",
    "If we have a look at some of our loaded in reviews, we'll notice that they are different lengths. This is an issue. We cannot pass different length data into our neural network. Therefore, we must make each review the same length. To do this we will follow the procedure below:\n",
    "- if the review is greater than 250 words then trim off the extra words\n",
    "- if the review is less than 250 words add the necessary amount of 0's to make it equal to 250.\n",
    "\n",
    "Luckily for us keras has a function that can do this for us:"
   ]
  },
  {
   "cell_type": "code",
   "execution_count": 10,
   "id": "8b146798",
   "metadata": {},
   "outputs": [],
   "source": [
    "data_train = sequence.pad_sequences(data_train, MAXLEN)\n",
    "data_test = sequence.pad_sequences(data_test, MAXLEN)"
   ]
  },
  {
   "cell_type": "markdown",
   "id": "aba762bc",
   "metadata": {},
   "source": [
    "### Creating the model"
   ]
  },
  {
   "cell_type": "code",
   "execution_count": 15,
   "id": "9566ccad",
   "metadata": {},
   "outputs": [],
   "source": [
    "model = tf.keras.Sequential([\n",
    "    # input_dim: Integer. Size of the vocabulary\n",
    "    # output_dim: Integer. Dimension of the dense embedding\n",
    "    tf.keras.layers.Embedding(VOCAB_SIZE, 32),\n",
    "    tf.keras.layers.LSTM(32),\n",
    "    tf.keras.layers.Dense(1, activation='sigmoid')\n",
    "])"
   ]
  },
  {
   "cell_type": "code",
   "execution_count": 16,
   "id": "8f2ed018",
   "metadata": {},
   "outputs": [
    {
     "name": "stdout",
     "output_type": "stream",
     "text": [
      "Model: \"sequential\"\n",
      "_________________________________________________________________\n",
      "Layer (type)                 Output Shape              Param #   \n",
      "=================================================================\n",
      "embedding (Embedding)        (None, None, 32)          2834688   \n",
      "_________________________________________________________________\n",
      "lstm (LSTM)                  (None, 32)                8320      \n",
      "_________________________________________________________________\n",
      "dense (Dense)                (None, 1)                 33        \n",
      "=================================================================\n",
      "Total params: 2,843,041\n",
      "Trainable params: 2,843,041\n",
      "Non-trainable params: 0\n",
      "_________________________________________________________________\n"
     ]
    }
   ],
   "source": [
    "model.summary()"
   ]
  },
  {
   "cell_type": "code",
   "execution_count": 17,
   "id": "b6a238e0",
   "metadata": {},
   "outputs": [],
   "source": [
    "model.compile(optimizer='rmsprop',\n",
    "             loss='binary_crossentropy',\n",
    "             metrics=['acc'])"
   ]
  },
  {
   "cell_type": "markdown",
   "id": "41a27cf7",
   "metadata": {},
   "source": [
    "### Training the model"
   ]
  },
  {
   "cell_type": "code",
   "execution_count": 18,
   "id": "48997cda",
   "metadata": {},
   "outputs": [
    {
     "name": "stderr",
     "output_type": "stream",
     "text": [
      "C:\\Users\\Jhon\\AppData\\Local\\Programs\\Python\\Python36\\lib\\importlib\\_bootstrap.py:219: RuntimeWarning: numpy.ufunc size changed, may indicate binary incompatibility. Expected 192 from C header, got 216 from PyObject\n",
      "  return f(*args, **kwds)\n"
     ]
    },
    {
     "name": "stdout",
     "output_type": "stream",
     "text": [
      "Epoch 1/10\n",
      "625/625 [==============================] - 48s 74ms/step - loss: 0.4226 - acc: 0.8061 - val_loss: 0.4184 - val_acc: 0.8454\n",
      "Epoch 2/10\n",
      "625/625 [==============================] - 46s 73ms/step - loss: 0.2401 - acc: 0.9073 - val_loss: 0.3091 - val_acc: 0.8664\n",
      "Epoch 3/10\n",
      "625/625 [==============================] - 47s 75ms/step - loss: 0.1864 - acc: 0.9323 - val_loss: 0.2889 - val_acc: 0.8944\n",
      "Epoch 4/10\n",
      "625/625 [==============================] - 46s 73ms/step - loss: 0.1535 - acc: 0.9441 - val_loss: 0.2968 - val_acc: 0.8706\n",
      "Epoch 5/10\n",
      "625/625 [==============================] - 47s 75ms/step - loss: 0.1308 - acc: 0.9539 - val_loss: 0.3109 - val_acc: 0.8886\n",
      "Epoch 6/10\n",
      "625/625 [==============================] - 49s 78ms/step - loss: 0.1131 - acc: 0.9603 - val_loss: 0.3599 - val_acc: 0.8718\n",
      "Epoch 7/10\n",
      "625/625 [==============================] - 46s 73ms/step - loss: 0.0966 - acc: 0.9676 - val_loss: 0.3326 - val_acc: 0.8870\n",
      "Epoch 8/10\n",
      "625/625 [==============================] - 47s 75ms/step - loss: 0.0834 - acc: 0.9710 - val_loss: 0.3804 - val_acc: 0.8840\n",
      "Epoch 9/10\n",
      "625/625 [==============================] - 46s 74ms/step - loss: 0.0688 - acc: 0.9769 - val_loss: 0.3370 - val_acc: 0.8850\n",
      "Epoch 10/10\n",
      "625/625 [==============================] - 46s 74ms/step - loss: 0.0654 - acc: 0.9793 - val_loss: 0.5135 - val_acc: 0.8728\n"
     ]
    }
   ],
   "source": [
    "history = model.fit(data_train, y_train, epochs=10, validation_split=0.2)"
   ]
  },
  {
   "cell_type": "markdown",
   "id": "caee5a51",
   "metadata": {},
   "source": [
    "### Evaluating the model"
   ]
  },
  {
   "cell_type": "code",
   "execution_count": 19,
   "id": "6689a722",
   "metadata": {},
   "outputs": [
    {
     "name": "stdout",
     "output_type": "stream",
     "text": [
      "782/782 [==============================] - 18s 22ms/step - loss: 0.5825 - acc: 0.8445\n",
      "[0.5825123190879822, 0.8445199728012085]\n"
     ]
    }
   ],
   "source": [
    "results = model.evaluate(data_test, y_test)\n",
    "print(results)"
   ]
  },
  {
   "cell_type": "markdown",
   "id": "4a684fee",
   "metadata": {},
   "source": [
    "##### We get an accuracy of 0.8445 %"
   ]
  },
  {
   "cell_type": "markdown",
   "id": "d5673907",
   "metadata": {},
   "source": [
    "### Making Predictions\n",
    "Since our reviews are encoded well need to convert any review that we write into that form so the network can understand it. To do that we'll load the encodings from the dataset and use them to encode our own data."
   ]
  },
  {
   "cell_type": "code",
   "execution_count": 42,
   "id": "ad778644",
   "metadata": {},
   "outputs": [],
   "source": [
    "word_index = imdb.get_word_index() # Retrieves a dict mapping words to their index in the IMDB dataset."
   ]
  },
  {
   "cell_type": "code",
   "execution_count": 43,
   "id": "91cec486",
   "metadata": {},
   "outputs": [
    {
     "name": "stdout",
     "output_type": "stream",
     "text": [
      "[  0   0   0   0   0   0   0   0   0   0   0   0   0   0   0   0   0   0\n",
      "   0   0   0   0   0   0   0   0   0   0   0   0   0   0   0   0   0   0\n",
      "   0   0   0   0   0   0   0   0   0   0   0   0   0   0   0   0   0   0\n",
      "   0   0   0   0   0   0   0   0   0   0   0   0   0   0   0   0   0   0\n",
      "   0   0   0   0   0   0   0   0   0   0   0   0   0   0   0   0   0   0\n",
      "   0   0   0   0   0   0   0   0   0   0   0   0   0   0   0   0   0   0\n",
      "   0   0   0   0   0   0   0   0   0   0   0   0   0   0   0   0   0   0\n",
      "   0   0   0   0   0   0   0   0   0   0   0   0   0   0   0   0   0   0\n",
      "   0   0   0   0   0   0   0   0   0   0   0   0   0   0   0   0   0   0\n",
      "   0   0   0   0   0   0   0   0   0   0   0   0   0   0   0   0   0   0\n",
      "   0   0   0   0   0   0   0   0   0   0   0   0   0   0   0   0   0   0\n",
      "   0   0   0   0   0   0   0   0   0   0   0   0   0   0   0   0   0   0\n",
      "   0   0   0   0   0   0   0   0   0   0   0   0   0   0   0   0   0   0\n",
      "   0   0   0   0   0   0   0   0   0  12  17  13  40 477  35 477]\n"
     ]
    }
   ],
   "source": [
    "# We build a function to encode\n",
    "def encode_text(text):\n",
    "    tokens = tf.keras.preprocessing.text.text_to_word_sequence(text) # Convert text to tokens\n",
    "    tokens = [word_index[word] if word in word_index else 0 for word in tokens] # we get the index of each token\n",
    "    # Now, we have to process the data -- Max len is 250\n",
    "    return sequence.pad_sequences([tokens], MAXLEN)[0] # We get a list of lists, but we want just one list\n",
    "    \n",
    "    \n",
    "text = \"that movie was just amazing, so amazing\"\n",
    "encoded = encode_text(text)\n",
    "print(encoded)"
   ]
  },
  {
   "cell_type": "code",
   "execution_count": 51,
   "id": "07321527",
   "metadata": {},
   "outputs": [
    {
     "name": "stdout",
     "output_type": "stream",
     "text": [
      "that movie was just amazing so amazing \n"
     ]
    }
    
   ],
   "source": [
    "# Function to decode\n",
    "def decode_text(encoded):\n",
    "    final = \"\"\n",
    "    for code in encoded:\n",
    "        if code != 0:\n",
    "            for key, value in word_index.items():\n",
    "                if value == code:\n",
    "                    final += key + \" \"\n",
    "    return final\n",
    "            \n",
    "\n",
    "decoded = decode_text(encoded)\n",
    "print(decoded)"
   ]
  },
  {
   "cell_type": "markdown",
   "id": "e54f50ac",
   "metadata": {},
   "source": [
    "#### Time to make a prediction"
   ]
  },
  {
   "cell_type": "code",
   "execution_count": 63,
   "id": "f624425f",
   "metadata": {},
   "outputs": [
    {
     "name": "stdout",
     "output_type": "stream",
     "text": [
      "[0.95112455]\n",
      "[0.5036001]\n"
     ]
    }
   ],
   "source": [
    "def predict(review):\n",
    "    encoded_review = encode_text(review)\n",
    "    predictions = np.zeros((1, 250))\n",
    "    predictions[0] = encoded_review\n",
    "    result = model.predict(predictions)\n",
    "    return result[0]\n",
    "\n",
    "\n",
    "positive_review = \"That movie was awesome! really loved it and would watch it again because it was amazingly great\"\n",
    "print(predict(positive_review))\n",
    "\n",
    "negative_review = \"that movie sucked. I hated it and wouldn't watch it again. Was one of the worst things I've ever watched\"\n",
    "print(predict(negative_review))"
   ]
  }
 ],
 "metadata": {
  "kernelspec": {
   "display_name": "Python 3",
   "language": "python",
   "name": "python3"
  },
  "language_info": {
   "codemirror_mode": {
    "name": "ipython",
    "version": 3
   },
   "file_extension": ".py",
   "mimetype": "text/x-python",
   "name": "python",
   "nbconvert_exporter": "python",
   "pygments_lexer": "ipython3",
   "version": "3.6.8"
  }
 },
 "nbformat": 4,
 "nbformat_minor": 5
}
