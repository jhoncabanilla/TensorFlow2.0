{
 "cells": [
  {
   "cell_type": "markdown",
   "id": "2f5b7d26",
   "metadata": {},
   "source": [
    "## Neural Networks with TensorFlow"
   ]
  },
  {
   "cell_type": "markdown",
   "id": "7ba1a33b",
   "metadata": {},
   "source": [
    "### Keras\n",
    "\"Keras is a high-level neural networks API, written in Python and capable of running on top of TensorFlow, CNTK, or Theano. It was developed with a focus on enabling fast experimentation.\n",
    "\n",
    "Use Keras if you need a deep learning library that:\n",
    "- Allows for easy and fast prototyping (through user friendliness, modularity, and extensibility).\n",
    "- Supports both convolutional networks and recurrent networks, as well as combinations of the two.\n",
    "- Runs seamlessly on CPU and GPU.\"\n",
    "\n",
    "Keras is a very powerful module that allows us to avoid having to build neural networks from scratch. It also hides a lot of mathematical complexity (that otherwise we would have to implement) inside of helpful packages, modules and methods."
   ]
  },
  {
   "cell_type": "markdown",
   "id": "d03582fb",
   "metadata": {},
   "source": [
    "## What is a Neural Network\n",
    "A deep neural network is a layered representation of data. The term \"deep\" refers to the presence of multiple layers. Recall that in our core learning algorithms (like linear regression) data was not transformed or modified within the model, it simply existed in one layer. We passed some features to our model, some math was done, an answer was returned. The data was not changed or transformed throughout this process. A neural network processes our data differently. It attempts to represent our data in different ways and in different dimensions by applying specific operations to transform our data at each layer. Another way to express this is that at each layer our data is transformed in order to learn more about it. By performing these transformations, the model can better understand our data and therefore provide a better prediction."
   ]
  },
  {
   "cell_type": "markdown",
   "id": "198576b2",
   "metadata": {},
   "source": [
    "## Activation Function"
   ]
  },
  {
   "cell_type": "markdown",
   "id": "f8d48d03",
   "metadata": {},
   "source": [
    "Activation functions are simply a function that is applied to the weighed sum of a neuron. They can be anything we want but are typically higher order/degree functions that aim to add a higher dimension to our data. We would want to do this to introduce more comolexity to our model. By transforming our data to a higher dimension, we can typically make better, more complex predictions.\n",
    "\n",
    "A list of some common activation functions and their graphs can be seen below.\n",
    "\n",
    "- Relu (Rectified Linear Unit)\n",
    "\n",
    "![alt text](https://yashuseth.files.wordpress.com/2018/02/relu-function.png?w=309&h=274)\n",
    "This transforms any negative value into 0. For positive values, it equals to their positive value\n",
    "----\n",
    "- Tanh (Hyperbolic Tangent)\n",
    "\n",
    "![alt text](http://mathworld.wolfram.com/images/interactive/TanhReal.gif)\n",
    "This transform the values between -1 and 1\n",
    "----\n",
    "- Sigmoid \n",
    "\n",
    "![alt text](https://miro.medium.com/max/970/1*Xu7B5y9gp0iL5ooBj7LtWw.png)\n",
    "This transform the values between 0 and 1"
   ]
  },
  {
   "cell_type": "markdown",
   "id": "54c05671",
   "metadata": {},
   "source": [
    "## Backpropagation\n",
    "Backpropagation is the fundemental algorithm behind training neural networks. It is what changes the weights and biases of our network. To fully explain this process, we need to start by discussing something called a cost/loss function.\n",
    "\n",
    "### Loss/Cost Function\n",
    "As we now know our neural network feeds information through the layers until it eventually reaches an output layer. This layer contains the results that we look at to determine the prediciton from our network. In the training phase it is likely that our network will make many mistakes and poor predicitions. In fact, at the start of training our network doesn't know anything (it has random weights and biases)!\n",
    "\n",
    "We need some way of evaluating if the network is doing well and how well it is doing. For our training data we have the features (input) and the labels (expected output), because of this we can compare the output from our network to the expected output. Based on the difference between these values we can determine if our network has done a good job or poor job. If the network has done a good job, we'll make minor changes to the weights and biases. If it has done a poor job our changes may be more drastic.\n",
    "\n",
    "So, this is where the cost/loss function comes in. This function is responsible for determining how well the network did. We pass it the output and the expected output, and it returns to us some value representing the cost/loss of the network. This effectively makes the networks job to optimize this cost function, trying to make it as low as possible.\n",
    "\n",
    "Some common loss/cost functions include.\n",
    "- Mean Squared Error\n",
    "- Mean Absolute Error\n",
    "- Hinge Loss"
   ]
  },
  {
   "cell_type": "markdown",
   "id": "f0e0b808",
   "metadata": {},
   "source": [
    "### Gradient descent\n",
    "\"Gradient descent is an optimization algorithm used to minimize some function by iteratively moving in the direction of steepest descent as defined by the negative of the gradient. In machine learning, we use gradient descent to update the parameters of our model.\""
   ]
  },
  {
   "cell_type": "markdown",
   "id": "3ac3542b",
   "metadata": {},
   "source": [
    "### Optimizer\n",
    "This is simply the function that implements the backpropagation algorithm described above. Here's a list of a few common ones.\n",
    "- Gradient Descent\n",
    "- Stochastic Gradient Descent\n",
    "- Mini-Batch Gradient Descent\n",
    "- Momentum\n",
    "- Nesterov Accelerated Gradient"
   ]
  },
  {
   "cell_type": "markdown",
   "id": "952ef279",
   "metadata": {},
   "source": [
    "# Creating a Neural Network"
   ]
  },
  {
   "cell_type": "code",
   "execution_count": 1,
   "id": "b2172bf9",
   "metadata": {},
   "outputs": [],
   "source": [
    "# TensorFlow & Keras\n",
    "import tensorflow as tf\n",
    "from tensorflow import keras\n",
    "\n",
    "import numpy as np\n",
    "import matplotlib.pyplot as plt"
   ]
  },
  {
   "cell_type": "markdown",
   "id": "370b16af",
   "metadata": {},
   "source": [
    "### Dataset\n",
    "Dataset included in keras\n",
    "This data set includes 60.000 images for training and 10.000 images for testing/validation"
   ]
  },
  {
   "cell_type": "code",
   "execution_count": 3,
   "id": "b051ff58",
   "metadata": {},
   "outputs": [
    {
     "name": "stdout",
     "output_type": "stream",
     "text": [
      "Downloading data from https://storage.googleapis.com/tensorflow/tf-keras-datasets/train-labels-idx1-ubyte.gz\n",
      "32768/29515 [=================================] - 0s 1us/step\n",
      "40960/29515 [=========================================] - 0s 1us/step\n",
      "Downloading data from https://storage.googleapis.com/tensorflow/tf-keras-datasets/train-images-idx3-ubyte.gz\n",
      "26427392/26421880 [==============================] - 1s 0us/step\n",
      "26435584/26421880 [==============================] - 1s 0us/step\n",
      "Downloading data from https://storage.googleapis.com/tensorflow/tf-keras-datasets/t10k-labels-idx1-ubyte.gz\n",
      "16384/5148 [===============================================================================================] - 0s 0s/step\n",
      "Downloading data from https://storage.googleapis.com/tensorflow/tf-keras-datasets/t10k-images-idx3-ubyte.gz\n",
      "4423680/4422102 [==============================] - 0s 0us/step\n",
      "4431872/4422102 [==============================] - 0s 0us/step\n"
     ]
    }
   ],
   "source": [
    "fashion_data = keras.datasets.fashion_mnist # load data\n",
    "(train_data, y_train), (test_data, y_test) = fashion_data.load_data() # split into training and testing"
   ]
  },
  {
   "cell_type": "code",
   "execution_count": 6,
   "id": "2dc9e8f5",
   "metadata": {},
   "outputs": [
    {
     "data": {
      "text/plain": [
       "(60000, 28, 28)"
      ]
     },
     "execution_count": 6,
     "metadata": {},
     "output_type": "execute_result"
    }
   ],
   "source": [
    "train_data.shape"
   ]
  },
  {
   "cell_type": "markdown",
   "id": "044a43ab",
   "metadata": {},
   "source": [
    "Tenemos 60.000 imagenes de 28x28 pixels (784 pixels in total)"
   ]
  },
  {
   "cell_type": "code",
   "execution_count": 26,
   "id": "600739c9",
   "metadata": {},
   "outputs": [
    {
     "name": "stdout",
     "output_type": "stream",
     "text": [
      "67\n",
      "194\n"
     ]
    }
   ],
   "source": [
    "print(train_data[0,20,27])\n",
    "print(train_data[0,23,23])"
   ]
  },
  {
   "cell_type": "markdown",
   "id": "268527ba",
   "metadata": {},
   "source": [
    "Our pixels values are between 0 and 255, 0 being black and 255 being white. This means we have a grayscale image as there are no color channels."
   ]
  },
  {
   "cell_type": "code",
   "execution_count": 33,
   "id": "9524477a",
   "metadata": {},
   "outputs": [
    {
     "data": {
      "text/plain": [
       "array([9, 0, 0, 3, 0, 2, 7, 2, 5, 5, 0, 9, 5, 5, 7, 9, 1, 0, 6, 4],\n",
       "      dtype=uint8)"
      ]
     },
     "execution_count": 33,
     "metadata": {},
     "output_type": "execute_result"
    }
   ],
   "source": [
    "y_train[:20]"
   ]
  },
  {
   "cell_type": "markdown",
   "id": "cddaf56c",
   "metadata": {},
   "source": [
    "Our labels are integers ranging from 0-9. Each integer represents a specific article of clothing. We'll create ar array of label names to indicate which is which."
   ]
  },
  {
   "cell_type": "code",
   "execution_count": 34,
   "id": "c7673cf7",
   "metadata": {},
   "outputs": [],
   "source": [
    "class_names = ['T-shirt/top', 'Trouser', 'Pullover', 'Dress', 'Coat',\n",
    "               'Sandal', 'Shirt', 'Sneaker', 'Bag', 'Ankle boot']"
   ]
  },
  {
   "cell_type": "code",
   "execution_count": 44,
   "id": "12643055",
   "metadata": {},
   "outputs": [
    {
     "data": {
      "image/png": "[encoded data removed]",
      "text/plain": [
       "<Figure size 432x288 with 2 Axes>"
      ]
     },
     "metadata": {
      "needs_background": "light"
     },
     "output_type": "display_data"
    }
   ],
   "source": [
    "plt.figure() # Make a figure\n",
    "plt.imshow(train_data[1]) # Show the image\n",
    "plt.colorbar() # do color bar\n",
    "plt.grid(False)\n",
    "plt.show()"
   ]
  },
  {
   "cell_type": "markdown",
   "id": "9afb4f9c",
   "metadata": {},
   "source": [
    "### Data Preprocessing"
   ]
  },
  {
   "cell_type": "markdown",
   "id": "bb641dbb",
   "metadata": {},
   "source": [
    "The last step before creating our model is to preprocess our data. This simply means applying some prior transformations to our data before feeding it the model. In this case we will simply scale all our greyscale pixel values (0-255) to be between 0 and 1. We can do this by dividing each value in the training and testing sets by 255.0. We do this because smaller values will make it easier for the model to process our values.\n",
    "\n",
    "*Typically, it's a good idea to get all of your input values in a neural network in between 0 and 1 for example. The reason for this is our neural network starts with random weights and biases that are in between the range zero and one. So if we have massive input information and tiny weights, then we're kind of having a bit of a mismatch. And we're gonna make it much more difficult to our NN to actually classify our information.*"
   ]
  },
  {
   "cell_type": "code",
   "execution_count": 45,
   "id": "bc9bb6fb",
   "metadata": {},
   "outputs": [],
   "source": [
    "train_data = train_data / 255.0\n",
    "test_data = test_data / 255.0"
   ]
  },
  {
   "cell_type": "markdown",
   "id": "e188fe10",
   "metadata": {},
   "source": [
    "### Building the model"
   ]
  },
  {
   "cell_type": "code",
   "execution_count": 48,
   "id": "a93ddbc8",
   "metadata": {},
   "outputs": [],
   "source": [
    "# We use Sequential NN, basic form of neural network. Information going from the left side to the right side, passing through\n",
    "# the layers sequentially.\n",
    "model = keras.Sequential([\n",
    "    # Inside of here we define the layers that we want in our NN\n",
    "    keras.layers.Flatten(input_shape=(28,28)),  # input layer (1)\n",
    "    keras.layers.Dense(128, activation='relu'), # hidden layer (2)\n",
    "    keras.layers.Dense(10, activation='softmax')   # output layer (3)\n",
    "])"
   ]
  },
  {
   "cell_type": "markdown",
   "id": "6175e40c",
   "metadata": {},
   "source": [
    "**Layer 1**: This is our input layer and it will conist of 784 neurons. We use the flatten layer with an input shape of (28,28) to denote that our input should come in in that shape. The flatten means that our layer will reshape the shape (28,28) array into a vector of 784 neurons so that each pixel will be associated with one neuron.\n",
    "\n",
    "**Layer 2**: This is our first and only hidden layer. The dense denotes that this layer will be fully connected and each neuron from the previous layer connects to each neuron of this layer. It has 128 neurons and uses the rectify linear unit activation function.\n",
    "\n",
    "**Layer 3**: This is our output later and is also a dense layer. It has 10 neurons that we will look at to determine our models output. Each neuron represnts the probabillity of a given image being one of the 10 different classes. The activation function **softmax** is used on this layer to calculate a probabillity distribution for each class. This means the value of any neuron in this layer will be between 0 and 1, where 1 represents a high probabillity of the image being that class."
   ]
  },
  {
   "cell_type": "markdown",
   "id": "9781303a",
   "metadata": {},
   "source": [
    "#### Compile the model\n",
    "The last step in building the model is to define the loss function, optimizer and metrics we would like to track."
   ]
  },
  {
   "cell_type": "code",
   "execution_count": 50,
   "id": "7a1928f8",
   "metadata": {},
   "outputs": [],
   "source": [
    "model.compile(optimizer='adam',\n",
    "             loss='sparse_categorical_crossentropy',\n",
    "             metrics=['accuracy'])"
   ]
  },
  {
   "cell_type": "markdown",
   "id": "b59fe240",
   "metadata": {},
   "source": [
    "### Training the model"
   ]
  },
  {
   "cell_type": "code",
   "execution_count": 52,
   "id": "34840203",
   "metadata": {},
   "outputs": [
    {
     "name": "stdout",
     "output_type": "stream",
     "text": [
      "Epoch 1/10\n",
      "1875/1875 [==============================] - 3s 1ms/step - loss: 0.4969 - accuracy: 0.8260\n",
      "Epoch 2/10\n",
      "1875/1875 [==============================] - 2s 1ms/step - loss: 0.3745 - accuracy: 0.8650\n",
      "Epoch 3/10\n",
      "1875/1875 [==============================] - 2s 1ms/step - loss: 0.3365 - accuracy: 0.8769\n",
      "Epoch 4/10\n",
      "1875/1875 [==============================] - 2s 1ms/step - loss: 0.3121 - accuracy: 0.8845\n",
      "Epoch 5/10\n",
      "1875/1875 [==============================] - 2s 1ms/step - loss: 0.2927 - accuracy: 0.8915\n",
      "Epoch 6/10\n",
      "1875/1875 [==============================] - 2s 1ms/step - loss: 0.2795 - accuracy: 0.8972\n",
      "Epoch 7/10\n",
      "1875/1875 [==============================] - 2s 1ms/step - loss: 0.2678 - accuracy: 0.9003\n",
      "Epoch 8/10\n",
      "1875/1875 [==============================] - 2s 1ms/step - loss: 0.2566 - accuracy: 0.9046\n",
      "Epoch 9/10\n",
      "1875/1875 [==============================] - 2s 1ms/step - loss: 0.2465 - accuracy: 0.9083\n",
      "Epoch 10/10\n",
      "1875/1875 [==============================] - 2s 1ms/step - loss: 0.2382 - accuracy: 0.9112\n"
     ]
    },
    {
     "data": {
      "text/plain": [
       "<keras.callbacks.History at 0x14b91c589b0>"
      ]
     },
     "execution_count": 52,
     "metadata": {},
     "output_type": "execute_result"
    }
   ],
   "source": [
    "model.fit(train_data, y_train, epochs=10)"
   ]
  },
  {
   "cell_type": "markdown",
   "id": "6aea8367",
   "metadata": {},
   "source": [
    "We got the accuracy on our training data"
   ]
  },
  {
   "cell_type": "markdown",
   "id": "ec4c493a",
   "metadata": {},
   "source": [
    "### Testing the model"
   ]
  },
  {
   "cell_type": "code",
   "execution_count": 53,
   "id": "10ea5bfd",
   "metadata": {},
   "outputs": [
    {
     "name": "stdout",
     "output_type": "stream",
     "text": [
      "313/313 [==============================] - 1s 1ms/step - loss: 0.3287 - accuracy: 0.8860\n",
      "Test accuracy: 0.8859999775886536\n"
     ]
    }
   ],
   "source": [
    "test_loss, test_acc = model.evaluate(test_data, y_test, verbose=1)\n",
    "print('Test accuracy:', test_acc)"
   ]
  },
  {
   "cell_type": "markdown",
   "id": "6489030a",
   "metadata": {},
   "source": [
    "Notice that we got an accuracy that is lower that the one we got in our training data. This is what is called *Overfitting*. Since we use 10 epochs, maybe the model just kind of memorize the data and get good at seeing that data. Whereas, when we pass new data we only get 0.886% of accuracy, which means we overfit our model.\n",
    "\n",
    "Now, we can start changing parameters (**hyper parameter tuning**) and maybe we can get a better accuracy."
   ]
  },
  {
   "cell_type": "markdown",
   "id": "6c6c8756",
   "metadata": {},
   "source": [
    "### Making Predictions"
   ]
  },
  {
   "cell_type": "code",
   "execution_count": 58,
   "id": "421900fa",
   "metadata": {},
   "outputs": [],
   "source": [
    "predictions = model.predict(test_data)"
   ]
  },
  {
   "cell_type": "code",
   "execution_count": 70,
   "id": "9036e59a",
   "metadata": {},
   "outputs": [
    {
     "name": "stdout",
     "output_type": "stream",
     "text": [
      "Sneaker\n"
     ]
    },
    {
     "data": {
      "image/png": "[encoded data removed]",
      "text/plain": [
       "<Figure size 432x288 with 2 Axes>"
      ]
     },
     "metadata": {
      "needs_background": "light"
     },
     "output_type": "display_data"
    }
   ],
   "source": [
    "# Para encontrar el indice del mayor valor dentro del array usamos np.argmax\n",
    "print(class_names[np.argmax(predictions[22])])\n",
    "\n",
    "plt.figure() # Make a figure\n",
    "plt.imshow(test_data[22]) # Show the image\n",
    "plt.colorbar() # do color bar\n",
    "plt.grid(False)\n",
    "plt.show()"
   ]
  },
  {
   "cell_type": "markdown",
   "id": "546e18ac",
   "metadata": {},
   "source": [
    "## Verifying Predictions"
   ]
  },
  {
   "cell_type": "code",
   "execution_count": 98,
   "id": "32b1845a",
   "metadata": {},
   "outputs": [
    {
     "name": "stdout",
     "output_type": "stream",
     "text": [
      "Please type an integer number:2545\n"
     ]
    },
    {
     "data": {
      "image/png": "[encoded data removed]",
      "text/plain": [
       "<Figure size 432x288 with 2 Axes>"
      ]
     },
     "metadata": {
      "needs_background": "light"
     },
     "output_type": "display_data"
    }
   ],
   "source": [
    "def get_number():\n",
    "    number = input(\"Please type an integer number:\" )\n",
    "    if not number.isdigit():\n",
    "        return \"Insert a valid number\"\n",
    "    return number\n",
    "\n",
    "def verify_predict(number):\n",
    "    # Expected value\n",
    "    label = 'Expected: ' + str(class_names[y_test[int(number)]])\n",
    "    # Predicted value\n",
    "    xlabel = 'Guess: ' + str(class_names[np.argmax(predictions[int(number)])])\n",
    "\n",
    "    # Draw actual cloth item\n",
    "    plt.figure() # Make a figure\n",
    "    plt.title(label)\n",
    "    plt.imshow(test_data[int(number)]) # Show the image\n",
    "    plt.xlabel(xlabel)\n",
    "    plt.colorbar() # do color bar\n",
    "    plt.grid(False)\n",
    "    plt.show()\n",
    "    \n",
    "    \n",
    "\n",
    "num = get_number()\n",
    "verify_predict(num)"
   ]
  }
 ],
 "metadata": {
  "kernelspec": {
   "display_name": "Python 3",
   "language": "python",
   "name": "python3"
  },
  "language_info": {
   "codemirror_mode": {
    "name": "ipython",
    "version": 3
   },
   "file_extension": ".py",
   "mimetype": "text/x-python",
   "name": "python",
   "nbconvert_exporter": "python",
   "pygments_lexer": "ipython3",
   "version": "3.6.8"
  }
 },
 "nbformat": 4,
 "nbformat_minor": 5
}
